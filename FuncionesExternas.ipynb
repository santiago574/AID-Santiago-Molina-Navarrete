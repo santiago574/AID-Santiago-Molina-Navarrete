{
  "nbformat": 4,
  "nbformat_minor": 0,
  "metadata": {
    "colab": {
      "name": "FuncionesExternas.ipynb",
      "provenance": [],
      "collapsed_sections": [],
      "authorship_tag": "ABX9TyPAgaPezgfCDj+TDXjD66D1",
      "include_colab_link": true
    },
    "kernelspec": {
      "name": "python3",
      "display_name": "Python 3"
    },
    "language_info": {
      "name": "python"
    }
  },
  "cells": [
    {
      "cell_type": "markdown",
      "metadata": {
        "id": "view-in-github",
        "colab_type": "text"
      },
      "source": [
        "<a href=\"https://colab.research.google.com/github/santiago574/AID-santiago-molina-navarrete/blob/main/FuncionesExternas.ipynb\" target=\"_parent\"><img src=\"https://colab.research.google.com/assets/colab-badge.svg\" alt=\"Open In Colab\"/></a>"
      ]
    },
    {
      "cell_type": "code",
      "metadata": {
        "id": "iivGt04UrV4p"
      },
      "source": [
        "#Declaracion de fuciones\n",
        "#Funcion sin parametros\n",
        "def funcion1 ():\n",
        "#COntenido de la funcion\n",
        "    print('Has llamado a la funcion 1')\n",
        "\n",
        "\t\n",
        "def funcion2 (a,b):\n",
        "    #Contenido de la funcion\n",
        "    c=int(a)+int(b)\n",
        "    return c\n"
      ],
      "execution_count": 3,
      "outputs": []
    }
  ]
}