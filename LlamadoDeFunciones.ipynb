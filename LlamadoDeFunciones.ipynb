{
  "nbformat": 4,
  "nbformat_minor": 0,
  "metadata": {
    "colab": {
      "name": "LlamadoDeFunciones.ipynb",
      "provenance": [],
      "collapsed_sections": [],
      "authorship_tag": "ABX9TyP9hvH1QJg0dQdMuMj31+UY",
      "include_colab_link": true
    },
    "kernelspec": {
      "name": "python3",
      "display_name": "Python 3"
    },
    "language_info": {
      "name": "python"
    }
  },
  "cells": [
    {
      "cell_type": "markdown",
      "metadata": {
        "id": "view-in-github",
        "colab_type": "text"
      },
      "source": [
        "<a href=\"https://colab.research.google.com/github/santiago574/AID-santiago-molina-navarrete/blob/main/LlamadoDeFunciones.ipynb\" target=\"_parent\"><img src=\"https://colab.research.google.com/assets/colab-badge.svg\" alt=\"Open In Colab\"/></a>"
      ]
    },
    {
      "cell_type": "code",
      "metadata": {
        "colab": {
          "base_uri": "https://localhost:8080/",
          "height": 129
        },
        "id": "HKzejmFXtWss",
        "outputId": "996b1f3a-8529-4006-aa31-d346ef3c8aab"
      },
      "source": [
        "#Llamamos las funciones declaradas en otro archivo\n",
        "from FuncionesExternas import *\n",
        "#Invocamos las funciones\n",
        "funcion1()\n",
        "#Invocamos la otra funcion\n",
        "Q=input('Introdusca un dato:')\n",
        "W=input('Introdusca otro dato:')\n",
        "print(funcion2(Q,W))"
      ],
      "execution_count": 2,
      "outputs": [
        {
          "output_type": "error",
          "ename": "SyntaxError",
          "evalue": "ignored",
          "traceback": [
            "\u001b[0;36m  File \u001b[0;32m\"<ipython-input-2-c3c031938dc2>\"\u001b[0;36m, line \u001b[0;32m2\u001b[0m\n\u001b[0;31m    from https://github.com/santiago574/AID-santiago-molina-navarrete/blob/main/FuncionesExternas.ipynb import *\u001b[0m\n\u001b[0m              ^\u001b[0m\n\u001b[0;31mSyntaxError\u001b[0m\u001b[0;31m:\u001b[0m invalid syntax\n"
          ]
        }
      ]
    }
  ]
}