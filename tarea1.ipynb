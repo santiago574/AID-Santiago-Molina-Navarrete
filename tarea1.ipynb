{
  "nbformat": 4,
  "nbformat_minor": 0,
  "metadata": {
    "colab": {
      "name": "tarea1.ipynb",
      "provenance": [],
      "collapsed_sections": [],
      "toc_visible": true,
      "mount_file_id": "14aQrlxOa7dhKps4HXaje0QC7SmM-ncq_",
      "authorship_tag": "ABX9TyMKH8hDErsDKb26yc4s5zoE",
      "include_colab_link": true
    },
    "kernelspec": {
      "name": "python3",
      "display_name": "Python 3"
    },
    "language_info": {
      "name": "python"
    }
  },
  "cells": [
    {
      "cell_type": "markdown",
      "metadata": {
        "id": "view-in-github",
        "colab_type": "text"
      },
      "source": [
        "<a href=\"https://colab.research.google.com/github/santiago574/AID-santiago-molina-navarrete/blob/main/tarea1.ipynb\" target=\"_parent\"><img src=\"https://colab.research.google.com/assets/colab-badge.svg\" alt=\"Open In Colab\"/></a>"
      ]
    },
    {
      "cell_type": "code",
      "metadata": {
        "id": "vAAEmxM21o6i"
      },
      "source": [
        "#Declaracion de fuciones\n",
        "#Funcion sin parametros\n",
        "def funcion1 ():\n",
        "#COntenido de la funcion\n",
        "    print('Has llamado a la funcion 1')\n",
        "\n",
        "\t\n",
        "def funcion2 (a,b):\n",
        "    #Contenido de la funcion\n",
        "    c=int(a)+int(b)\n",
        "    return c"
      ],
      "execution_count": null,
      "outputs": []
    },
    {
      "cell_type": "code",
      "metadata": {
        "colab": {
          "base_uri": "https://localhost:8080/"
        },
        "id": "50yadGFYxMFK",
        "outputId": "1a75ea3f-92b8-48b6-9cbe-bcf307266f34"
      },
      "source": [
        "#Llamamos las funciones declaradas en otro archivo\n",
        "#from FuncionesExternas import *\n",
        "#Invocamos las funciones\n",
        "funcion1()\n",
        "#Invocamos la otra funcion\n",
        "Q=input('Introdusca un dato:')\n",
        "W=input('Introdusca otro dato:')\n",
        "print(funcion2(Q,W))"
      ],
      "execution_count": null,
      "outputs": [
        {
          "output_type": "stream",
          "text": [
            "Has llamado a la funcion 1\n",
            "Introdusca un dato:5\n",
            "Introdusca otro dato:6\n",
            "11\n"
          ],
          "name": "stdout"
        }
      ]
    }
  ]
}